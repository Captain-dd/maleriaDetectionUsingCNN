{
 "cells": [
  {
   "cell_type": "code",
   "execution_count": 1,
   "id": "7e24488a",
   "metadata": {
    "ExecuteTime": {
     "end_time": "2022-07-27T07:52:36.615685Z",
     "start_time": "2022-07-27T07:52:36.161597Z"
    }
   },
   "outputs": [],
   "source": [
    "from keras.layers import Input, Lambda, Dense, Flatten\n",
    "from tensorflow.keras.layers import Conv2D\n",
    "from tensorflow.keras import layers, models\n",
    "import tensorflow as tf \n",
    "\n",
    "\n",
    "import matplotlib.pyplot as plt\n",
    "\n"
   ]
  },
  {
   "cell_type": "code",
   "execution_count": 2,
   "id": "4fd7689e",
   "metadata": {
    "ExecuteTime": {
     "end_time": "2022-07-27T07:29:16.218026Z",
     "start_time": "2022-07-27T07:29:16.206059Z"
    }
   },
   "outputs": [],
   "source": [
    "IMAGE_SIZE = 128\n",
    "BATCH_SIZE = 100"
   ]
  },
  {
   "cell_type": "code",
   "execution_count": 3,
   "id": "e1ba86a2",
   "metadata": {
    "ExecuteTime": {
     "end_time": "2022-07-27T07:29:16.389646Z",
     "start_time": "2022-07-27T07:29:16.219023Z"
    }
   },
   "outputs": [
    {
     "data": {
      "text/plain": [
       "[PhysicalDevice(name='/physical_device:CPU:0', device_type='CPU'),\n",
       " PhysicalDevice(name='/physical_device:GPU:0', device_type='GPU')]"
      ]
     },
     "execution_count": 3,
     "metadata": {},
     "output_type": "execute_result"
    }
   ],
   "source": [
    "tf.config.list_physical_devices()"
   ]
  },
  {
   "cell_type": "code",
   "execution_count": 4,
   "id": "01dba4d3",
   "metadata": {
    "ExecuteTime": {
     "end_time": "2022-07-27T11:12:37.381422Z",
     "start_time": "2022-07-27T11:12:36.912558Z"
    }
   },
   "outputs": [
    {
     "name": "stdout",
     "output_type": "stream",
     "text": [
      "Found 16000 files belonging to 2 classes.\n"
     ]
    }
   ],
   "source": [
    "# loading train and test dataset\n",
    "\n",
    "train_ds_ = tf.keras.utils.image_dataset_from_directory(\n",
    "    directory='./Data/train/',\n",
    "    image_size= (IMAGE_SIZE, IMAGE_SIZE),\n",
    "    batch_size=BATCH_SIZE,\n",
    "    shuffle=True\n",
    "    )"
   ]
  },
  {
   "cell_type": "code",
   "execution_count": 5,
   "id": "8520902f",
   "metadata": {
    "ExecuteTime": {
     "end_time": "2022-07-27T11:12:41.135798Z",
     "start_time": "2022-07-27T11:12:40.797479Z"
    }
   },
   "outputs": [
    {
     "name": "stdout",
     "output_type": "stream",
     "text": [
      "Found 11558 files belonging to 2 classes.\n"
     ]
    }
   ],
   "source": [
    "test_ds = tf.keras.utils.image_dataset_from_directory(\n",
    "            directory='./Data/test/',\n",
    "            image_size= (IMAGE_SIZE, IMAGE_SIZE), \n",
    "            batch_size=BATCH_SIZE, \n",
    "            shuffle=True)"
   ]
  },
  {
   "cell_type": "code",
   "execution_count": 6,
   "id": "4eeae10c",
   "metadata": {
    "ExecuteTime": {
     "end_time": "2022-07-27T11:13:00.127038Z",
     "start_time": "2022-07-27T11:13:00.121053Z"
    }
   },
   "outputs": [
    {
     "name": "stdout",
     "output_type": "stream",
     "text": [
      "['Parasitized', 'Uninfected']\n"
     ]
    }
   ],
   "source": [
    "class_names = train_ds_.class_names\n",
    "print(class_names)"
   ]
  },
  {
   "cell_type": "code",
   "execution_count": 7,
   "id": "a3a8edab",
   "metadata": {
    "ExecuteTime": {
     "end_time": "2022-07-27T11:13:27.865494Z",
     "start_time": "2022-07-27T11:13:27.848532Z"
    }
   },
   "outputs": [
    {
     "name": "stdout",
     "output_type": "stream",
     "text": [
      "['Parasitized', 'Uninfected']\n"
     ]
    }
   ],
   "source": [
    "class_names = test_ds.class_names\n",
    "print(class_names)"
   ]
  },
  {
   "cell_type": "code",
   "execution_count": 8,
   "id": "e484ecb7",
   "metadata": {
    "ExecuteTime": {
     "end_time": "2022-07-27T07:29:18.113795Z",
     "start_time": "2022-07-27T07:29:18.098950Z"
    }
   },
   "outputs": [
    {
     "data": {
      "text/plain": [
       "160"
      ]
     },
     "execution_count": 8,
     "metadata": {},
     "output_type": "execute_result"
    }
   ],
   "source": [
    "len(train_ds_)"
   ]
  },
  {
   "cell_type": "code",
   "execution_count": 9,
   "id": "142a6249",
   "metadata": {
    "ExecuteTime": {
     "end_time": "2022-07-27T07:29:18.129400Z",
     "start_time": "2022-07-27T07:29:18.114792Z"
    }
   },
   "outputs": [
    {
     "data": {
      "text/plain": [
       "128"
      ]
     },
     "execution_count": 9,
     "metadata": {},
     "output_type": "execute_result"
    }
   ],
   "source": [
    "# splitting train data into train and validation dataset\n",
    "train_size  = 0.8\n",
    "int(len(train_ds_)*train_size)"
   ]
  },
  {
   "cell_type": "code",
   "execution_count": 10,
   "id": "f9016970",
   "metadata": {
    "ExecuteTime": {
     "end_time": "2022-07-27T07:29:18.145359Z",
     "start_time": "2022-07-27T07:29:18.130397Z"
    }
   },
   "outputs": [
    {
     "data": {
      "text/plain": [
       "128"
      ]
     },
     "execution_count": 10,
     "metadata": {},
     "output_type": "execute_result"
    }
   ],
   "source": [
    "train_ds = train_ds_.take(int(len(train_ds_)*train_size)) # it same as array[:400] same as array slicing\n",
    "len(train_ds)"
   ]
  },
  {
   "cell_type": "code",
   "execution_count": 11,
   "id": "5f174ff7",
   "metadata": {
    "ExecuteTime": {
     "end_time": "2022-07-27T07:29:18.160581Z",
     "start_time": "2022-07-27T07:29:18.146008Z"
    }
   },
   "outputs": [
    {
     "data": {
      "text/plain": [
       "32"
      ]
     },
     "execution_count": 11,
     "metadata": {},
     "output_type": "execute_result"
    }
   ],
   "source": [
    "validation_ds = train_ds_.skip(int(len(train_ds_)*train_size))\n",
    "len(validation_ds)"
   ]
  },
  {
   "cell_type": "code",
   "execution_count": 12,
   "id": "1105b911",
   "metadata": {
    "ExecuteTime": {
     "end_time": "2022-07-27T07:29:18.176574Z",
     "start_time": "2022-07-27T07:29:18.163570Z"
    }
   },
   "outputs": [],
   "source": [
    "train_ds = train_ds.cache().shuffle(1000).prefetch(buffer_size=tf.data.AUTOTUNE)\n",
    "test_ds = test_ds.cache().shuffle(1000).prefetch(buffer_size=tf.data.AUTOTUNE)\n",
    "\n",
    "validation_ds = validation_ds.cache().shuffle(1000).prefetch(buffer_size=tf.data.AUTOTUNE)\n"
   ]
  },
  {
   "cell_type": "code",
   "execution_count": 13,
   "id": "39f50ab9",
   "metadata": {
    "ExecuteTime": {
     "end_time": "2022-07-27T07:29:18.191500Z",
     "start_time": "2022-07-27T07:29:18.177539Z"
    }
   },
   "outputs": [],
   "source": [
    "resize_rescale = tf.keras.Sequential([\n",
    "    \n",
    "    layers.experimental.preprocessing.Resizing(IMAGE_SIZE, IMAGE_SIZE),\n",
    "    layers.experimental.preprocessing.Rescaling(1.0/255)\n",
    "    \n",
    "])\n",
    "\n"
   ]
  },
  {
   "cell_type": "code",
   "execution_count": 14,
   "id": "ac5dbd5e",
   "metadata": {
    "ExecuteTime": {
     "end_time": "2022-07-27T07:53:06.800152Z",
     "start_time": "2022-07-27T07:53:06.783303Z"
    }
   },
   "outputs": [
    {
     "data": {
      "text/plain": [
       "(100, 128, 128, 3)"
      ]
     },
     "execution_count": 14,
     "metadata": {},
     "output_type": "execute_result"
    }
   ],
   "source": [
    "input_shape = (BATCH_SIZE, IMAGE_SIZE, IMAGE_SIZE, 3)\n",
    "kernal_size = (3,3)\n",
    "EPOCHS = 10\n",
    "input_shape"
   ]
  },
  {
   "cell_type": "code",
   "execution_count": 15,
   "id": "3be8d1a3",
   "metadata": {
    "ExecuteTime": {
     "end_time": "2022-07-27T07:58:29.331504Z",
     "start_time": "2022-07-27T07:58:29.304414Z"
    }
   },
   "outputs": [],
   "source": [
    "\n",
    "model = models.Sequential([\n",
    "    \n",
    "    resize_rescale,\n",
    "    \n",
    "    # first layer\n",
    "    Conv2D(32, kernel_size = kernal_size, \n",
    "           activation = 'relu', input_shape = input_shape),\n",
    "    \n",
    "    \n",
    "    # second layer\n",
    "    Conv2D(64, kernel_size = kernal_size,\n",
    "            activation='relu'),\n",
    "    layers.MaxPooling2D((2,2)),\n",
    "    \n",
    "    \n",
    "    # third layer\n",
    "    Conv2D(64, kernel_size = kernal_size,\n",
    "            activation='relu'),\n",
    "    layers.MaxPooling2D((2,2)),\n",
    "    \n",
    "    \n",
    "    # fourth layer\n",
    "    Conv2D(128, kernel_size = kernal_size,\n",
    "            activation='relu'),\n",
    "    layers.MaxPooling2D((2,2)),\n",
    "    \n",
    "    # fifth layer\n",
    "    layers.Conv2D(256, \n",
    "                  kernel_size = (3,3), \n",
    "                  activation='relu'),\n",
    "    layers.MaxPooling2D((2,2)),\n",
    "    \n",
    "    layers.Flatten(),\n",
    "    layers.Dense(64, activation='relu'),\n",
    "    layers.Dense(2, activation='softmax')\n",
    "    \n",
    "    \n",
    "])\n",
    "\n",
    "\n"
   ]
  },
  {
   "cell_type": "code",
   "execution_count": 16,
   "id": "fadf38e4",
   "metadata": {
    "ExecuteTime": {
     "end_time": "2022-07-27T07:58:29.983839Z",
     "start_time": "2022-07-27T07:58:29.927802Z"
    }
   },
   "outputs": [],
   "source": [
    "model.build(input_shape=input_shape)"
   ]
  },
  {
   "cell_type": "code",
   "execution_count": 17,
   "id": "243aa966",
   "metadata": {
    "ExecuteTime": {
     "end_time": "2022-07-27T07:58:30.327231Z",
     "start_time": "2022-07-27T07:58:30.307372Z"
    }
   },
   "outputs": [
    {
     "name": "stdout",
     "output_type": "stream",
     "text": [
      "Model: \"sequential_1\"\n",
      "_________________________________________________________________\n",
      " Layer (type)                Output Shape              Param #   \n",
      "=================================================================\n",
      " sequential (Sequential)     (100, 128, 128, 3)        0         \n",
      "                                                                 \n",
      " conv2d (Conv2D)             (100, 126, 126, 32)       896       \n",
      "                                                                 \n",
      " conv2d_1 (Conv2D)           (100, 124, 124, 64)       18496     \n",
      "                                                                 \n",
      " max_pooling2d (MaxPooling2D  (100, 62, 62, 64)        0         \n",
      " )                                                               \n",
      "                                                                 \n",
      " conv2d_2 (Conv2D)           (100, 60, 60, 64)         36928     \n",
      "                                                                 \n",
      " max_pooling2d_1 (MaxPooling  (100, 30, 30, 64)        0         \n",
      " 2D)                                                             \n",
      "                                                                 \n",
      " conv2d_3 (Conv2D)           (100, 28, 28, 128)        73856     \n",
      "                                                                 \n",
      " max_pooling2d_2 (MaxPooling  (100, 14, 14, 128)       0         \n",
      " 2D)                                                             \n",
      "                                                                 \n",
      " conv2d_4 (Conv2D)           (100, 12, 12, 256)        295168    \n",
      "                                                                 \n",
      " max_pooling2d_3 (MaxPooling  (100, 6, 6, 256)         0         \n",
      " 2D)                                                             \n",
      "                                                                 \n",
      " flatten (Flatten)           (100, 9216)               0         \n",
      "                                                                 \n",
      " dense (Dense)               (100, 64)                 589888    \n",
      "                                                                 \n",
      " dense_1 (Dense)             (100, 2)                  130       \n",
      "                                                                 \n",
      "=================================================================\n",
      "Total params: 1,015,362\n",
      "Trainable params: 1,015,362\n",
      "Non-trainable params: 0\n",
      "_________________________________________________________________\n"
     ]
    }
   ],
   "source": [
    "model.summary()"
   ]
  },
  {
   "cell_type": "code",
   "execution_count": 18,
   "id": "14d3aec5",
   "metadata": {
    "ExecuteTime": {
     "end_time": "2022-07-27T07:58:30.654386Z",
     "start_time": "2022-07-27T07:58:30.643337Z"
    }
   },
   "outputs": [],
   "source": [
    "model.compile(optimizer='adam', \n",
    "             loss=tf.keras.losses.SparseCategoricalCrossentropy(from_logits=False),\n",
    "             metrics=['accuracy'])"
   ]
  },
  {
   "cell_type": "code",
   "execution_count": null,
   "id": "f4e44d0e",
   "metadata": {
    "ExecuteTime": {
     "end_time": "2022-07-27T08:05:50.613464Z",
     "start_time": "2022-07-27T07:58:31.031509Z"
    }
   },
   "outputs": [
    {
     "name": "stdout",
     "output_type": "stream",
     "text": [
      "Epoch 1/10\n",
      " 32/160 [=====>........................] - ETA: 1:46 - loss: 0.6975 - accuracy: 0.5091"
     ]
    }
   ],
   "source": [
    "with tf.device('/GPU:0'):\n",
    "    model_hist = model.fit(\n",
    "            train_ds_, \n",
    "            batch_size=BATCH_SIZE,\n",
    "            validation_data=test_ds,\n",
    "             verbose=1,\n",
    "            epochs=EPOCHS)"
   ]
  },
  {
   "cell_type": "code",
   "execution_count": null,
   "id": "2340f93b",
   "metadata": {
    "ExecuteTime": {
     "end_time": "2022-07-27T08:05:59.790648Z",
     "start_time": "2022-07-27T08:05:50.615456Z"
    }
   },
   "outputs": [],
   "source": [
    "scores = model.evaluate(test_ds)\n",
    "scores"
   ]
  },
  {
   "cell_type": "markdown",
   "id": "58677671",
   "metadata": {},
   "source": [
    "--this score contains **[loss_value,  accuracy_value]**<br>\n",
    "-- So our model provides almost **95% accuracy**"
   ]
  },
  {
   "cell_type": "code",
   "execution_count": null,
   "id": "91a2e3c9",
   "metadata": {
    "ExecuteTime": {
     "end_time": "2022-07-27T08:05:59.805823Z",
     "start_time": "2022-07-27T08:05:59.794636Z"
    }
   },
   "outputs": [],
   "source": [
    "model_hist"
   ]
  },
  {
   "cell_type": "code",
   "execution_count": null,
   "id": "5177d4b4",
   "metadata": {
    "ExecuteTime": {
     "end_time": "2022-07-27T08:05:59.821597Z",
     "start_time": "2022-07-27T08:05:59.811625Z"
    }
   },
   "outputs": [],
   "source": [
    "model_hist.params"
   ]
  },
  {
   "cell_type": "code",
   "execution_count": null,
   "id": "565c3340",
   "metadata": {
    "ExecuteTime": {
     "end_time": "2022-07-27T08:05:59.836560Z",
     "start_time": "2022-07-27T08:05:59.824592Z"
    }
   },
   "outputs": [],
   "source": [
    "model_hist.history.keys()"
   ]
  },
  {
   "cell_type": "code",
   "execution_count": null,
   "id": "fdb3317c",
   "metadata": {
    "ExecuteTime": {
     "end_time": "2022-07-27T08:05:59.852582Z",
     "start_time": "2022-07-27T08:05:59.838552Z"
    }
   },
   "outputs": [],
   "source": [
    "model_hist.history['loss']"
   ]
  },
  {
   "cell_type": "code",
   "execution_count": 43,
   "id": "dd6e41c1",
   "metadata": {
    "ExecuteTime": {
     "end_time": "2022-07-27T08:05:59.867536Z",
     "start_time": "2022-07-27T08:05:59.854581Z"
    }
   },
   "outputs": [
    {
     "data": {
      "text/plain": [
       "[0.16476549208164215,\n",
       " 0.14664237201213837,\n",
       " 0.13811510801315308,\n",
       " 0.13376614451408386,\n",
       " 0.1407664567232132,\n",
       " 0.13620473444461823,\n",
       " 0.1301605999469757,\n",
       " 0.13253717124462128,\n",
       " 0.1316307634115219,\n",
       " 0.16695435345172882]"
      ]
     },
     "execution_count": 43,
     "metadata": {},
     "output_type": "execute_result"
    }
   ],
   "source": [
    "model_hist.history['val_loss']"
   ]
  },
  {
   "cell_type": "code",
   "execution_count": 44,
   "id": "1b38452d",
   "metadata": {
    "ExecuteTime": {
     "end_time": "2022-07-27T08:05:59.883409Z",
     "start_time": "2022-07-27T08:05:59.871290Z"
    }
   },
   "outputs": [
    {
     "data": {
      "text/plain": [
       "[0.8556249737739563,\n",
       " 0.9501875042915344,\n",
       " 0.9549375176429749,\n",
       " 0.9570000171661377,\n",
       " 0.9599999785423279,\n",
       " 0.9608749747276306,\n",
       " 0.9635000228881836,\n",
       " 0.9655625224113464,\n",
       " 0.968625009059906,\n",
       " 0.9710000157356262]"
      ]
     },
     "execution_count": 44,
     "metadata": {},
     "output_type": "execute_result"
    }
   ],
   "source": [
    "model_hist.history['accuracy']"
   ]
  },
  {
   "cell_type": "code",
   "execution_count": 45,
   "id": "05de4745",
   "metadata": {
    "ExecuteTime": {
     "end_time": "2022-07-27T08:05:59.898689Z",
     "start_time": "2022-07-27T08:05:59.886394Z"
    }
   },
   "outputs": [
    {
     "data": {
      "text/plain": [
       "[0.9528465270996094,\n",
       " 0.9467035531997681,\n",
       " 0.9538847804069519,\n",
       " 0.9577781558036804,\n",
       " 0.9542308449745178,\n",
       " 0.9554421305656433,\n",
       " 0.9593355059623718,\n",
       " 0.956220805644989,\n",
       " 0.9581242203712463,\n",
       " 0.956393837928772]"
      ]
     },
     "execution_count": 45,
     "metadata": {},
     "output_type": "execute_result"
    }
   ],
   "source": [
    "model_hist.history['val_accuracy']"
   ]
  },
  {
   "cell_type": "code",
   "execution_count": 46,
   "id": "416cf809",
   "metadata": {
    "ExecuteTime": {
     "end_time": "2022-07-27T08:05:59.914213Z",
     "start_time": "2022-07-27T08:05:59.904686Z"
    }
   },
   "outputs": [],
   "source": [
    "train_acc = model_hist.history['accuracy']\n",
    "val_acc = model_hist.history['val_accuracy']\n",
    "\n",
    "train_loss = model_hist.history['loss']\n",
    "\n",
    "val_loss = model_hist.history['val_loss']"
   ]
  },
  {
   "cell_type": "code",
   "execution_count": 48,
   "id": "0c63d871",
   "metadata": {
    "ExecuteTime": {
     "end_time": "2022-07-27T11:01:02.806622Z",
     "start_time": "2022-07-27T11:01:02.642304Z"
    }
   },
   "outputs": [
    {
     "data": {
      "image/png": "[encoded data removed]",
      "text/plain": [
       "<Figure size 576x576 with 2 Axes>"
      ]
     },
     "metadata": {
      "needs_background": "light"
     },
     "output_type": "display_data"
    }
   ],
   "source": [
    "plt.figure(figsize=(8,8))\n",
    "\n",
    "plt.subplot(1,2,1)\n",
    "\n",
    "plt.plot(range(EPOCHS), train_acc, label='Training accuracy')\n",
    "plt.plot(range(EPOCHS), val_acc, label='Validation accuracy')\n",
    "plt.title('Training and validation Accuravy')\n",
    "plt.legend(loc='lower right')\n",
    "plt.yticks([0.1,0.1,0.2,0.3,0.4,0.5,0.6,0.7,0.8,0.9,1])\n",
    "plt.subplot(1,2,2)\n",
    "\n",
    "plt.plot(range(EPOCHS), train_loss, label='Training loss')\n",
    "plt.plot(range(EPOCHS), val_loss, label='Validation loss')\n",
    "plt.title('Training and validation loss')\n",
    "plt.legend(loc='upper right')\n",
    "plt.yticks([0.1,0.1,0.2,0.3,0.4,0.5,0.6,0.7,0.8,0.9,1])\n",
    "\n",
    "plt.show()"
   ]
  },
  {
   "cell_type": "code",
   "execution_count": 84,
   "id": "474bf196",
   "metadata": {
    "ExecuteTime": {
     "end_time": "2022-07-27T12:14:52.394011Z",
     "start_time": "2022-07-27T12:14:51.719953Z"
    }
   },
   "outputs": [
    {
     "name": "stdout",
     "output_type": "stream",
     "text": [
      "first image to predict\n",
      "actual label: Parasitized\n",
      "predicted label: Parasitized\n"
     ]
    },
    {
     "data": {
      "image/png": "[encoded data removed]",
      "text/plain": [
       "<Figure size 432x288 with 1 Axes>"
      ]
     },
     "metadata": {
      "needs_background": "light"
     },
     "output_type": "display_data"
    }
   ],
   "source": [
    "import numpy as np\n",
    "\n",
    "for image_batch, label_batch in test_ds.take(1):\n",
    "    \n",
    "    # reading first image from batch\n",
    "    first_image = image_batch[0].numpy().astype('uint8')\n",
    "    \n",
    "    # reading first image label from batch\n",
    "    first_label = label_batch[0].numpy()\n",
    "    \n",
    "    print(\"first image to predict\")\n",
    "    plt.imshow(first_image)\n",
    "    print(\"actual label:\",class_names[first_label])\n",
    "    \n",
    "    batch_prediction = model.predict(image_batch)\n",
    "    print(\"predicted label:\",class_names[np.argmax(batch_prediction[0])])"
   ]
  },
  {
   "cell_type": "code",
   "execution_count": null,
   "id": "7d23e877",
   "metadata": {},
   "outputs": [],
   "source": []
  }
 ],
 "metadata": {
  "kernelspec": {
   "display_name": "Python 3 (ipykernel)",
   "language": "python",
   "name": "python3"
  },
  "language_info": {
   "codemirror_mode": {
    "name": "ipython",
    "version": 3
   },
   "file_extension": ".py",
   "mimetype": "text/x-python",
   "name": "python",
   "nbconvert_exporter": "python",
   "pygments_lexer": "ipython3",
   "version": "3.8.9"
  },
  "toc": {
   "base_numbering": 1,
   "nav_menu": {},
   "number_sections": true,
   "sideBar": true,
   "skip_h1_title": false,
   "title_cell": "Table of Contents",
   "title_sidebar": "Contents",
   "toc_cell": false,
   "toc_position": {},
   "toc_section_display": true,
   "toc_window_display": false
  }
 },
 "nbformat": 4,
 "nbformat_minor": 5
}
